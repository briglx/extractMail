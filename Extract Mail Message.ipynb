{
 "cells": [
  {
   "cell_type": "code",
   "execution_count": 22,
   "metadata": {
    "collapsed": true
   },
   "outputs": [],
   "source": [
    "import json\n",
    "import win32com.client\n",
    "import codecs\n"
   ]
  },
  {
   "cell_type": "code",
   "execution_count": 2,
   "metadata": {
    "collapsed": true
   },
   "outputs": [],
   "source": [
    "outlook  = win32com.client.Dispatch(\"Outlook.Application\").GetNamespace(\"MAPI\")\n"
   ]
  },
  {
   "cell_type": "code",
   "execution_count": 13,
   "metadata": {
    "collapsed": true
   },
   "outputs": [],
   "source": [
    "inbox    = outlook.GetDefaultFolder(6)  # \"6\" refers to the inbox"
   ]
  },
  {
   "cell_type": "code",
   "execution_count": 75,
   "metadata": {
    "collapsed": true
   },
   "outputs": [],
   "source": [
    "messages = inbox.Items\n",
    "message  = messages.GetFirst()\n",
    "items = []"
   ]
  },
  {
   "cell_type": "code",
   "execution_count": 76,
   "metadata": {
    "collapsed": false
   },
   "outputs": [
    {
     "name": "stdout",
     "output_type": "stream",
     "text": [
      "Error processing mail\n"
     ]
    }
   ],
   "source": [
    "while message:\n",
    "    \n",
    "    try:\n",
    "        d = dict()\n",
    "        d['Subject'] = encodeit(getattr(message, 'Subject', '<UNKNOWN>'))\n",
    "        d['SentOn']  = encodeit(getattr(message, 'SentOn', '<UNKNOWN>'))\n",
    "        d['EntryID'] = encodeit(getattr(message, 'EntryID', '<UNKNOWN>'))\n",
    "        d['Sender']  = encodeit(getattr(message, 'Sender', '<UNKNOWN>'))\n",
    "        d['Size']    = encodeit(getattr(message, 'Size', '<UNKNOWN>'))\n",
    "        d['Body']    = encodeit(getattr(message, 'Body', '<UNKNOWN>'))\n",
    "        items.append(d)\n",
    "        \n",
    "    except Exception as inst:\n",
    "        print \"Error processing mail\"\n",
    "\n",
    "    message = messages.GetNext()"
   ]
  },
  {
   "cell_type": "code",
   "execution_count": null,
   "metadata": {
    "collapsed": true
   },
   "outputs": [],
   "source": [
    "def parseit(s):\n",
    "    if hasattr(s, 'Sender'):"
   ]
  },
  {
   "cell_type": "code",
   "execution_count": 61,
   "metadata": {
    "collapsed": true
   },
   "outputs": [],
   "source": [
    "def encodeit(s):\n",
    "    if isinstance(s, str):\n",
    "        return unicode(s, 'utf-8')\n",
    "    else:\n",
    "        return s"
   ]
  },
  {
   "cell_type": "code",
   "execution_count": 77,
   "metadata": {
    "collapsed": false
   },
   "outputs": [
    {
     "data": {
      "text/plain": [
       "2493"
      ]
     },
     "execution_count": 77,
     "metadata": {},
     "output_type": "execute_result"
    }
   ],
   "source": [
    "len(items)"
   ]
  },
  {
   "cell_type": "code",
   "execution_count": 82,
   "metadata": {
    "collapsed": false
   },
   "outputs": [],
   "source": [
    "items.sort(key=lambda tup: tup['SentOn']) "
   ]
  },
  {
   "cell_type": "code",
   "execution_count": 83,
   "metadata": {
    "collapsed": false
   },
   "outputs": [
    {
     "name": "stdout",
     "output_type": "stream",
     "text": [
      "01/11/16 08:36:53 New_Employee_Resources \n",
      "01/11/16 11:15:19 FW: Reminder: Two additional paid holidays added to benefits for FY16\n",
      "01/11/16 13:00:42 FW: Smart card request for New hire\n",
      ...
      "<UNKNOWN> Undeliverable: Setup Hands-on Lab\n"
     ]
    }
   ],
   "source": [
    "for i in items:\n",
    "    print i[\"SentOn\"], i[\"Subject\"]"
   ]
  }
 ],
 "metadata": {
  "kernelspec": {
   "display_name": "Python 2",
   "language": "python",
   "name": "python2"
  },
  "language_info": {
   "codemirror_mode": {
    "name": "ipython",
    "version": 2
   },
   "file_extension": ".py",
   "mimetype": "text/x-python",
   "name": "python",
   "nbconvert_exporter": "python",
   "pygments_lexer": "ipython2",
   "version": "2.7.11"
  }
 },
 "nbformat": 4,
 "nbformat_minor": 0
}
